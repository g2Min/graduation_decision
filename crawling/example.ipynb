{
 "cells": [
  {
   "cell_type": "code",
   "execution_count": 1,
   "metadata": {},
   "outputs": [
    {
     "name": "stderr",
     "output_type": "stream",
     "text": [
      "/Users/leejimin/Documents/dev/개연_졸업사정/.venv/lib/python3.9/site-packages/urllib3/__init__.py:35: NotOpenSSLWarning: urllib3 v2 only supports OpenSSL 1.1.1+, currently the 'ssl' module is compiled with 'LibreSSL 2.8.3'. See: https://github.com/urllib3/urllib3/issues/3020\n",
      "  warnings.warn(\n"
     ]
    }
   ],
   "source": [
    "from selenium import webdriver\n",
    "from selenium.webdriver.support import expected_conditions as EC\n",
    "from selenium.webdriver.common.by import By\n",
    "from selenium.webdriver.support.ui import WebDriverWait\n",
    "import requests\n",
    "from bs4 import BeautifulSoup\n",
    "from html_table_parser import parser_functions\n",
    "import pandas as pd"
   ]
  },
  {
   "cell_type": "code",
   "execution_count": 16,
   "metadata": {},
   "outputs": [],
   "source": [
    "# 드라이버 초기화\n",
    "driver = webdriver.Chrome()\n",
    "\n",
    "url = \"https://ai.dongguk.edu/page/30427\""
   ]
  },
  {
   "cell_type": "code",
   "execution_count": 17,
   "metadata": {},
   "outputs": [],
   "source": [
    "try:\n",
    "    driver.get(url)\n",
    "    element = WebDriverWait(driver, 10) # request wait 걸기\n",
    "    html = driver.page_source # page_source 얻기\n",
    "    soup = BeautifulSoup(html, 'html.parser') # get html\n",
    "\n",
    "    table = soup.select_one('.tbl') \n",
    "    # 테이블 데이터 추출\n",
    "    def parse_table(table):\n",
    "        rows = table.find_all('tr')\n",
    "        data = []\n",
    "        rowspan_map = {}  # rowspan을 처리하기 위한 맵\n",
    "\n",
    "        for row_idx, row in enumerate(rows):\n",
    "            row_data = []\n",
    "            cells = row.find_all(['td', 'th'])\n",
    "            col_idx = 0\n",
    "\n",
    "            for cell in cells:\n",
    "                while col_idx in rowspan_map:\n",
    "                    # 이미 rowspan이 적용된 셀이 있는지 확인\n",
    "                    row_data.append(rowspan_map[col_idx]['text'])\n",
    "                    rowspan_map[col_idx]['count'] -= 1\n",
    "                    if rowspan_map[col_idx]['count'] == 0:\n",
    "                        del rowspan_map[col_idx]\n",
    "                    col_idx += 1\n",
    "\n",
    "                cell_text = cell.get_text(strip=True)\n",
    "                rowspan = int(cell.get('rowspan', 1))\n",
    "                colspan = int(cell.get('colspan', 1))\n",
    "\n",
    "                for i in range(colspan):\n",
    "                    row_data.append(cell_text)\n",
    "\n",
    "                if rowspan > 1:\n",
    "                    for i in range(colspan):\n",
    "                        span_col_idx = col_idx + i\n",
    "                        if span_col_idx not in rowspan_map:\n",
    "                            rowspan_map[span_col_idx] = {'text': cell_text, 'count': rowspan - 1}\n",
    "                        else:\n",
    "                            rowspan_map[span_col_idx]['count'] += (rowspan - 1)\n",
    "\n",
    "                col_idx += colspan\n",
    "\n",
    "            while col_idx in rowspan_map:\n",
    "                row_data.append(rowspan_map[col_idx]['text'])\n",
    "                rowspan_map[col_idx]['count'] -= 1\n",
    "                if rowspan_map[col_idx]['count'] == 0:\n",
    "                    del rowspan_map[col_idx]\n",
    "                col_idx += 1\n",
    "\n",
    "            data.append(row_data)\n",
    "\n",
    "        # 데이터 평탄화\n",
    "        max_length = max(len(row) for row in data)\n",
    "        flattened_data = [row + [''] * (max_length - len(row)) for row in data]\n",
    "\n",
    "        return flattened_data\n",
    "\n",
    "    table_data = parse_table(table)\n",
    "\n",
    "    # Pandas DataFrame으로 변환\n",
    "    df = pd.DataFrame(table_data)\n",
    "\n",
    "    # DataFrame 출력\n",
    "    df\n",
    "    \n",
    "finally:\n",
    "    driver.quit()"
   ]
  }
 ],
 "metadata": {
  "kernelspec": {
   "display_name": "jupyter",
   "language": "python",
   "name": "conda"
  },
  "language_info": {
   "codemirror_mode": {
    "name": "ipython",
    "version": 3
   },
   "file_extension": ".py",
   "mimetype": "text/x-python",
   "name": "python",
   "nbconvert_exporter": "python",
   "pygments_lexer": "ipython3",
   "version": "3.9.6"
  }
 },
 "nbformat": 4,
 "nbformat_minor": 2
}
